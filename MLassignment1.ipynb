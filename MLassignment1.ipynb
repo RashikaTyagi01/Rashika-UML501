{
  "nbformat": 4,
  "nbformat_minor": 0,
  "metadata": {
    "colab": {
      "provenance": [],
      "authorship_tag": "ABX9TyON9nKdK6BFss0TpQnMgkcv",
      "include_colab_link": true
    },
    "kernelspec": {
      "name": "python3",
      "display_name": "Python 3"
    },
    "language_info": {
      "name": "python"
    }
  },
  "cells": [
    {
      "cell_type": "markdown",
      "metadata": {
        "id": "view-in-github",
        "colab_type": "text"
      },
      "source": [
        "<a href=\"https://colab.research.google.com/github/RashikaTyagi01/Rashika-UML501/blob/main/MLassignment1.ipynb\" target=\"_parent\"><img src=\"https://colab.research.google.com/assets/colab-badge.svg\" alt=\"Open In Colab\"/></a>"
      ]
    },
    {
      "cell_type": "markdown",
      "source": [
        "Q1: Questions on Basic NumPy Array"
      ],
      "metadata": {
        "id": "hGyYCc3hBQrg"
      }
    },
    {
      "cell_type": "markdown",
      "source": [
        "(a) Reverse the NumPy array: arr = np.array([1, 2, 3, 6, 4, 5])"
      ],
      "metadata": {
        "id": "0ImweevFBSuJ"
      }
    },
    {
      "cell_type": "code",
      "execution_count": 1,
      "metadata": {
        "colab": {
          "base_uri": "https://localhost:8080/"
        },
        "id": "wnf05KKu7OSL",
        "outputId": "c996cf79-1c78-46e2-e832-ea1ebaddb601"
      },
      "outputs": [
        {
          "output_type": "stream",
          "name": "stdout",
          "text": [
            "Reversed array:  [5 4 6 3 2 1]\n"
          ]
        }
      ],
      "source": [
        "import numpy as np\n",
        "arr = np.array([1,2,3,6,4,5])\n",
        "print(\"Reversed array: \", np.flip(arr))"
      ]
    },
    {
      "cell_type": "markdown",
      "source": [
        "(b) Flatten the NumPy arr: array1 = np.array([[1, 2, 3], [2, 4, 5], [1, 2, 3]]) using any two\n",
        "NumPy in-built methods"
      ],
      "metadata": {
        "id": "ebw1EpeqBYhD"
      }
    },
    {
      "cell_type": "code",
      "source": [
        "array1 = np.array([[1,2,3], [2,4,5], [1,2,3]])\n",
        "print(\"Flattened array: \", array1.flatten())\n",
        "\n",
        "print(\"Flattened array: \", np.ravel(array1))\n"
      ],
      "metadata": {
        "colab": {
          "base_uri": "https://localhost:8080/"
        },
        "id": "83broH8V8hmI",
        "outputId": "55b3da8e-2f01-4ad7-c57b-13b58f243332"
      },
      "execution_count": 2,
      "outputs": [
        {
          "output_type": "stream",
          "name": "stdout",
          "text": [
            "Flattened array:  [1 2 3 2 4 5 1 2 3]\n",
            "Flattened array:  [1 2 3 2 4 5 1 2 3]\n"
          ]
        }
      ]
    },
    {
      "cell_type": "markdown",
      "source": [
        "(c) Compare the following numpy arrays:\n",
        "arr1 = np.array([[1, 2], [3, 4]])\n",
        "arr2 = np.array([[1, 2], [3, 4]])"
      ],
      "metadata": {
        "id": "wu5dREluBdDJ"
      }
    },
    {
      "cell_type": "code",
      "source": [
        "a1 = np.array([[1,2], [3,4]])\n",
        "a2 = np.array([[1,2], [3,4]])\n",
        "print(a1==a2)\n",
        "print(np.array_equal(a1,a2))\n",
        "\n",
        "print(np.equal(a1,a2))"
      ],
      "metadata": {
        "colab": {
          "base_uri": "https://localhost:8080/"
        },
        "id": "RwgpegKQ_SKZ",
        "outputId": "2bdd9689-d5d6-4ee3-ba4c-c48f698940bd"
      },
      "execution_count": 3,
      "outputs": [
        {
          "output_type": "stream",
          "name": "stdout",
          "text": [
            "[[ True  True]\n",
            " [ True  True]]\n",
            "True\n",
            "[[ True  True]\n",
            " [ True  True]]\n"
          ]
        }
      ]
    },
    {
      "cell_type": "markdown",
      "source": [
        "(d) Find the most frequent value and their indice(s) in the following arrays:\n",
        "i. x = np.array([1,2,3,4,5,1,2,1,1,1])\n",
        "ii. y = np.array([1, 1, 1, 2, 3, 4, 2, 4, 3, 3, ])"
      ],
      "metadata": {
        "id": "5_nr8RCEBh48"
      }
    },
    {
      "cell_type": "code",
      "source": [
        "#i)\n",
        "x = np.array([1,2,3,4,5,1,2,1,1,1])\n",
        "ele = np.bincount(x).argmax()\n",
        "print(ele)\n",
        "print(np.where(x==ele)[0])"
      ],
      "metadata": {
        "colab": {
          "base_uri": "https://localhost:8080/"
        },
        "id": "5b76Flu_AA0A",
        "outputId": "eb7b5a94-d6e0-4bab-ee2c-e1ebb3bf0707"
      },
      "execution_count": 4,
      "outputs": [
        {
          "output_type": "stream",
          "name": "stdout",
          "text": [
            "1\n",
            "[0 5 7 8 9]\n"
          ]
        }
      ]
    },
    {
      "cell_type": "code",
      "source": [
        "#ii)\n",
        "y = np.array([1,1,1,2,3,4,2,2,3,3])\n",
        "occ = np.bincount(y)\n",
        "maximum = max(occ)\n",
        "for i in range(len(occ)):\n",
        "  if(occ[i]==maximum):\n",
        "    print(\"freq value:\",i, end=\" \")\n",
        "    print(\"indices:\",np.where(y==i)[0])"
      ],
      "metadata": {
        "colab": {
          "base_uri": "https://localhost:8080/"
        },
        "id": "l6C-OutXBDvQ",
        "outputId": "68459335-78e6-4d96-8c2e-2f2fc40ce903"
      },
      "execution_count": 5,
      "outputs": [
        {
          "output_type": "stream",
          "name": "stdout",
          "text": [
            "freq value: 1 indices: [0 1 2]\n",
            "freq value: 2 indices: [3 6 7]\n",
            "freq value: 3 indices: [4 8 9]\n"
          ]
        }
      ]
    },
    {
      "cell_type": "markdown",
      "source": [
        "(e) For the array gfg = np.matrix('[4, 1, 9; 12, 3, 1; 4, 5, 6]'), find\n",
        "i. Sum of all elements\n",
        "ii. Sum of all elements row-wise\n",
        "iii. Sum of all elements column-wise"
      ],
      "metadata": {
        "id": "F0Pf1syNv5PR"
      }
    },
    {
      "cell_type": "code",
      "source": [
        "gfg = np.matrix('[4,1,9; 12,3,1; 4,5,6]')\n",
        "#i)\n",
        "print(np.sum(gfg))\n",
        "#ii)\n",
        "print(\"row-wise sum: \")\n",
        "print(np.sum(gfg, axis=1))\n",
        "#iii)\n",
        "print(\"column-wise sum: \",np.sum(gfg, axis=0))"
      ],
      "metadata": {
        "id": "sWDygJw8HKNZ",
        "colab": {
          "base_uri": "https://localhost:8080/"
        },
        "outputId": "16ba0a12-fc48-4187-8c34-c99a6521ea63"
      },
      "execution_count": 6,
      "outputs": [
        {
          "output_type": "stream",
          "name": "stdout",
          "text": [
            "45\n",
            "row-wise sum: \n",
            "[[14]\n",
            " [16]\n",
            " [15]]\n",
            "column-wise sum:  [[20  9 16]]\n"
          ]
        }
      ]
    },
    {
      "cell_type": "markdown",
      "source": [
        "(f) For the matrix: n_array = np.array([[55, 25, 15],[30, 44, 2],[11, 45, 77]]), find\n",
        "i. Sum of diagonal elements\n",
        "ii. Eigen values of matrix\n",
        "iii. Eigen vectors of matrix\n",
        "iv. Inverse of matrix\n",
        "v. Determinant of matrix"
      ],
      "metadata": {
        "id": "-jpr_wW3wDr8"
      }
    },
    {
      "cell_type": "code",
      "source": [
        "n_array = np.array([[55,25,15],[30,44,2],[11,45,77]])\n",
        "print(\"Diagonal sum: \", np.trace(n_array),\"\\n\")\n",
        "vector,value = np.linalg.eig(n_array)\n",
        "print(\"eigen values: \",value)\n",
        "print(\"eigen vectors: \",vector)\n",
        "print()\n",
        "print(\"inverse of matrix: \")\n",
        "print(np.linalg.inv(n_array),\"\\n\")\n",
        "print(\"determinant: \",np.linalg.det(n_array))"
      ],
      "metadata": {
        "colab": {
          "base_uri": "https://localhost:8080/"
        },
        "id": "dBJ4gqGR_PXI",
        "outputId": "10523a8b-7f6b-4a55-ee26-a8e403297dfc"
      },
      "execution_count": 7,
      "outputs": [
        {
          "output_type": "stream",
          "name": "stdout",
          "text": [
            "Diagonal sum:  176 \n",
            "\n",
            "eigen values:  [[ 0.4574917   0.34637121 -0.15017693]\n",
            " [ 0.28447814 -0.72784061 -0.4852124 ]\n",
            " [ 0.84248058  0.59184038  0.8614034 ]]\n",
            "eigen vectors:  [98.16835147 28.097044   49.73460452]\n",
            "\n",
            "inverse of matrix: \n",
            "[[ 0.02404141 -0.00911212 -0.00444671]\n",
            " [-0.01667882  0.02966905  0.0024785 ]\n",
            " [ 0.00631287 -0.01603732  0.01217379]] \n",
            "\n",
            "determinant:  137180.0000000001\n"
          ]
        }
      ]
    },
    {
      "cell_type": "markdown",
      "source": [
        "(g) Multiply the following matrices and also find covariance between matrices using NumPy:\n",
        "i. p = [[1, 2], [2, 3]]\n",
        "q = [[4, 5], [6, 7]]\n",
        "ii. p = [[1, 2], [2, 3], [4, 5]]\n",
        "q = [[4, 5, 1], [6, 7, 2]]"
      ],
      "metadata": {
        "id": "VHYkbuIYwHYE"
      }
    },
    {
      "cell_type": "code",
      "source": [
        "#i)\n",
        "p = np.array([[1,2],[2,3]])\n",
        "q = np.array([[4,5],[6,7]])\n",
        "mul1 = np.matmul(p,q)\n",
        "print(\"Matrix multiplication: \")\n",
        "print(mul1)\n",
        "\n",
        "cov1 = np.cov(p.flatten(),q.flatten())\n",
        "print(\"Covariance: \")\n",
        "print(cov1)"
      ],
      "metadata": {
        "colab": {
          "base_uri": "https://localhost:8080/"
        },
        "id": "my5bUU60BFSC",
        "outputId": "4847f870-9c88-4000-ba71-781c0633d1ba"
      },
      "execution_count": 8,
      "outputs": [
        {
          "output_type": "stream",
          "name": "stdout",
          "text": [
            "Matrix multiplication: \n",
            "[[16 19]\n",
            " [26 31]]\n",
            "Covariance: \n",
            "[[0.66666667 1.        ]\n",
            " [1.         1.66666667]]\n"
          ]
        }
      ]
    },
    {
      "cell_type": "code",
      "source": [
        "#ii)\n",
        "p1 = np.array([[1,2],[2,3],[4,5]])\n",
        "q1 = np.array([[4,5,1],[6,7,2]])\n",
        "mul2 = np.matmul(p1,q1)\n",
        "print(\"Matrix multiplication: \")\n",
        "print(mul2)\n",
        "cov2 = np.cov(p1.flatten(),q1.flatten())\n",
        "print(\"Covariance: \")\n",
        "print(cov2)"
      ],
      "metadata": {
        "colab": {
          "base_uri": "https://localhost:8080/"
        },
        "id": "sh4hjd-vDGmJ",
        "outputId": "9b9532ae-c08a-4bfe-a6dc-ebefdf46b666"
      },
      "execution_count": 9,
      "outputs": [
        {
          "output_type": "stream",
          "name": "stdout",
          "text": [
            "Matrix multiplication: \n",
            "[[16 19  5]\n",
            " [26 31  8]\n",
            " [46 55 14]]\n",
            "Covariance: \n",
            "[[2.16666667 0.23333333]\n",
            " [0.23333333 5.36666667]]\n"
          ]
        }
      ]
    },
    {
      "cell_type": "markdown",
      "source": [
        "(h) For the matrices: x = np.array([[2, 3, 4], [3, 2, 9]]); y = np.array([[1, 5, 0], [5, 10, 3]]),\n",
        "find inner, outer and cartesian product?"
      ],
      "metadata": {
        "id": "FscmC4-vwUvp"
      }
    },
    {
      "cell_type": "code",
      "source": [
        "x=np.array([[2,3,4],[3,2,9]])\n",
        "y=np.array([[1,5,0],[5,10,3]])\n",
        "print(\"Inner product: \",np.inner(x,y))\n",
        "print(\"Outer product: \",np.outer(x,y))\n",
        "\n",
        "from itertools import product\n",
        "cartesian = np.array(list(product(x.flatten(),y.flatten())))\n",
        "print(\"Cartesian product: \\n\",cartesian)"
      ],
      "metadata": {
        "colab": {
          "base_uri": "https://localhost:8080/"
        },
        "id": "34TYW9PbDHOw",
        "outputId": "ba7e13fd-fdc0-4e25-f0f2-d8e897430786"
      },
      "execution_count": 10,
      "outputs": [
        {
          "output_type": "stream",
          "name": "stdout",
          "text": [
            "Inner product:  [[17 52]\n",
            " [13 62]]\n",
            "Outer product:  [[ 2 10  0 10 20  6]\n",
            " [ 3 15  0 15 30  9]\n",
            " [ 4 20  0 20 40 12]\n",
            " [ 3 15  0 15 30  9]\n",
            " [ 2 10  0 10 20  6]\n",
            " [ 9 45  0 45 90 27]]\n",
            "Cartesian product: \n",
            " [[ 2  1]\n",
            " [ 2  5]\n",
            " [ 2  0]\n",
            " [ 2  5]\n",
            " [ 2 10]\n",
            " [ 2  3]\n",
            " [ 3  1]\n",
            " [ 3  5]\n",
            " [ 3  0]\n",
            " [ 3  5]\n",
            " [ 3 10]\n",
            " [ 3  3]\n",
            " [ 4  1]\n",
            " [ 4  5]\n",
            " [ 4  0]\n",
            " [ 4  5]\n",
            " [ 4 10]\n",
            " [ 4  3]\n",
            " [ 3  1]\n",
            " [ 3  5]\n",
            " [ 3  0]\n",
            " [ 3  5]\n",
            " [ 3 10]\n",
            " [ 3  3]\n",
            " [ 2  1]\n",
            " [ 2  5]\n",
            " [ 2  0]\n",
            " [ 2  5]\n",
            " [ 2 10]\n",
            " [ 2  3]\n",
            " [ 9  1]\n",
            " [ 9  5]\n",
            " [ 9  0]\n",
            " [ 9  5]\n",
            " [ 9 10]\n",
            " [ 9  3]]\n"
          ]
        }
      ]
    },
    {
      "cell_type": "markdown",
      "source": [
        "Q2: Based on NumPy Mathematics and Statistics\n",
        "(a) For the array: array = np.array([[1, -2, 3],[-4, 5, -6]])\n",
        "i. Find element-wise absolute value\n",
        "ii. Find the 25th, 50th, and 75th percentile of flattened array, for each column, for each\n",
        "row.\n",
        "iii. Mean, Median and Standard Deviation of flattened array, of each column, and\n",
        "each row"
      ],
      "metadata": {
        "id": "bYssWGewBPwv"
      }
    },
    {
      "cell_type": "code",
      "source": [
        "array = np.array([[1,-2,3],[-4,5,-6]])\n",
        "print(np.absolute(array))\n",
        "print()\n",
        "\n",
        "print(\"for flattened array: \")\n",
        "flat = array.flatten();\n",
        "print(\"25th percentile: \",np.percentile(flat,25))\n",
        "print(\"50th percentile: \",np.percentile(flat,50))\n",
        "print(\"75th percentile: \",np.percentile(flat,75),\"\\n\")\n",
        "print(\"for each column: \")\n",
        "print(\"25th percentile: \",np.percentile(array,25,axis=0))\n",
        "print(\"50th percentile: \",np.percentile(array,50,axis=0))\n",
        "print(\"75th percentile: \",np.percentile(array,75,axis=0),\"\\n\")\n",
        "print(\"for each row: \",)\n",
        "print(\"25th percentile: \",np.percentile(array,25,axis=1))\n",
        "print(\"50th percentile: \",np.percentile(array,50,axis=1))\n",
        "print(\"75th percentile: \",np.percentile(array,75,axis=1),\"\\n\")\n",
        "\n",
        "print(\"for flattened array: \")\n",
        "print(\"mean: \",np.mean(flat))\n",
        "print(\"median: \",np.median(flat))\n",
        "print(\"standard deviation: \",np.std(flat),\"\\n\")\n",
        "print(\"for each column: \")\n",
        "print(\"mean: \",np.mean(array,axis=0))\n",
        "print(\"median: \",np.median(array,axis=0))\n",
        "print(\"standard deviation: \",np.std(array,axis=0),\"\\n\")\n",
        "print(\"for each row: \",)\n",
        "print(\"mean: \",np.mean(array,axis=1))\n",
        "print(\"median: \",np.median(array,axis=1))\n",
        "print(\"standard deviation: \",np.std(array,axis=1))\n"
      ],
      "metadata": {
        "colab": {
          "base_uri": "https://localhost:8080/"
        },
        "id": "gPWpv7S4DvHs",
        "outputId": "5ff393b9-423e-441e-a029-b3cac13e5286"
      },
      "execution_count": 11,
      "outputs": [
        {
          "output_type": "stream",
          "name": "stdout",
          "text": [
            "[[1 2 3]\n",
            " [4 5 6]]\n",
            "\n",
            "for flattened array: \n",
            "25th percentile:  -3.5\n",
            "50th percentile:  -0.5\n",
            "75th percentile:  2.5 \n",
            "\n",
            "for each column: \n",
            "25th percentile:  [-2.75 -0.25 -3.75]\n",
            "50th percentile:  [-1.5  1.5 -1.5]\n",
            "75th percentile:  [-0.25  3.25  0.75] \n",
            "\n",
            "for each row: \n",
            "25th percentile:  [-0.5 -5. ]\n",
            "50th percentile:  [ 1. -4.]\n",
            "75th percentile:  [2.  0.5] \n",
            "\n",
            "for flattened array: \n",
            "mean:  -0.5\n",
            "median:  -0.5\n",
            "standard deviation:  3.8622100754188224 \n",
            "\n",
            "for each column: \n",
            "mean:  [-1.5  1.5 -1.5]\n",
            "median:  [-1.5  1.5 -1.5]\n",
            "standard deviation:  [2.5 3.5 4.5] \n",
            "\n",
            "for each row: \n",
            "mean:  [ 0.66666667 -1.66666667]\n",
            "median:  [ 1. -4.]\n",
            "standard deviation:  [2.05480467 4.78423336]\n"
          ]
        }
      ]
    },
    {
      "cell_type": "markdown",
      "source": [
        "(b) For the array: a = np.array([-1.8, -1.6, -0.5, 0.5,1.6, 1.8, 3.0]). Find floor, ceiling\n",
        "and truncated value, rounded values"
      ],
      "metadata": {
        "id": "j2bc4FScwmxF"
      }
    },
    {
      "cell_type": "code",
      "source": [
        "a = np.array([-1.8, -1.6, -0.5, 0.5, 1.6, 1.8, 3.0])\n",
        "print(\"floor: \",np.floor(a))\n",
        "print(\"ceiling: \",np.ceil(a))\n",
        "print(\"truncated: \",np.trunc(a))\n",
        "print(\"rounded values: \",np.round(a))"
      ],
      "metadata": {
        "colab": {
          "base_uri": "https://localhost:8080/"
        },
        "id": "ZFqn6WhwJObl",
        "outputId": "daedc564-936d-45eb-f363-f95252a3425a"
      },
      "execution_count": 12,
      "outputs": [
        {
          "output_type": "stream",
          "name": "stdout",
          "text": [
            "floor:  [-2. -2. -1.  0.  1.  1.  3.]\n",
            "ceiling:  [-1. -1. -0.  1.  2.  2.  3.]\n",
            "truncated:  [-1. -1. -0.  0.  1.  1.  3.]\n",
            "rounded values:  [-2. -2. -0.  0.  2.  2.  3.]\n"
          ]
        }
      ]
    },
    {
      "cell_type": "markdown",
      "source": [
        "Q3: Based on Searching and Sorting\n",
        "(a) For the array: array = np.array([10, 52, 62, 16, 16, 54, 453]), find\n",
        "i. Sorted array\n",
        "ii. Indices of sorted array\n",
        "iii. 4 smallest elements\n",
        "iv. 5 largest elements"
      ],
      "metadata": {
        "id": "0DatZGzzwt6f"
      }
    },
    {
      "cell_type": "code",
      "source": [
        "arr1 = np.array([10,52,62,16,16,54,453])\n",
        "print(\"sorted array: \",np.sort(arr1))\n",
        "print(\"indices of sorted array: \",np.argsort(arr1))\n",
        "sorted = np.sort(arr1)\n",
        "print(\"4 smallest elements: \",sorted[:4])\n",
        "print(\"5 largest elements: \",sorted[-5:])"
      ],
      "metadata": {
        "colab": {
          "base_uri": "https://localhost:8080/"
        },
        "id": "pIxP8IeAKor8",
        "outputId": "1b9c7d6d-38ef-4089-a320-190d157e8b37"
      },
      "execution_count": 13,
      "outputs": [
        {
          "output_type": "stream",
          "name": "stdout",
          "text": [
            "sorted array:  [ 10  16  16  52  54  62 453]\n",
            "indices of sorted array:  [0 3 4 1 5 2 6]\n",
            "4 smallest elements:  [10 16 16 52]\n",
            "5 largest elements:  [ 16  52  54  62 453]\n"
          ]
        }
      ]
    },
    {
      "cell_type": "markdown",
      "source": [
        "(b) For the array: array = np.array([1.0, 1.2, 2.2, 2.0, 3.0, 2.0]), find\n",
        "i. Integer elements only\n",
        "ii. Float elements only"
      ],
      "metadata": {
        "id": "Xs-qcfrowzXC"
      }
    },
    {
      "cell_type": "code",
      "source": [
        "array = np.array([1.0, 1.2, 2.2, 2.0, 3.0, 2.0])\n",
        "print(\"integer elements: \",array[array == array.astype(int)])\n",
        "print(\"Float elements: \",array[array != array.astype(int)])"
      ],
      "metadata": {
        "colab": {
          "base_uri": "https://localhost:8080/"
        },
        "id": "09OtZDgrOx9V",
        "outputId": "e4f55a90-e750-42ba-a425-cda96d67514e"
      },
      "execution_count": 14,
      "outputs": [
        {
          "output_type": "stream",
          "name": "stdout",
          "text": [
            "integer elements:  [1. 2. 3. 2.]\n",
            "Float elements:  [1.2 2.2]\n"
          ]
        }
      ]
    },
    {
      "cell_type": "markdown",
      "source": [
        "Q4:\n",
        "(a) Write a function named img_to_array(path) that reads an image from a specified path and\n",
        "save it as text file on local machine? (Note: use separate cases for RGB and Grey Scale\n",
        "images)\n",
        "(b) Load the saved file into jupyter notebook?"
      ],
      "metadata": {
        "id": "3Z3HiJgiw1-B"
      }
    },
    {
      "cell_type": "code",
      "source": [
        "import numpy as np\n",
        "from PIL import Image\n",
        "def img_to_array(path):\n",
        "  img = Image.open(path)\n",
        "  arr = np.array(img)\n",
        "  if len(arr.shape) == 2:\n",
        "    np.savetxt(\"grayscale_image.txt\",arr,fmt='%d')\n",
        "    print(\"grayscale image saved\")\n",
        "  else:\n",
        "    np.savetxt(\"rgb_image.txt\",arr.reshape(-1,arr.shape[2]),fmt='%d')\n",
        "    print(\"flattened rgb image saved\")\n",
        "\n",
        "def load(filename):\n",
        "  arr=np.loadtxt(filename,dtype=int)\n",
        "  print(f\"Loaded {filename}\")\n",
        "  return arr"
      ],
      "metadata": {
        "id": "yxmfQsUH4Gyd"
      },
      "execution_count": 15,
      "outputs": []
    }
  ]
}